{
  "nbformat": 4,
  "nbformat_minor": 0,
  "metadata": {
    "colab": {
      "provenance": [],
      "authorship_tag": "ABX9TyM1SL+VZO8DbyLBT8NY/pQq",
      "include_colab_link": true
    },
    "kernelspec": {
      "name": "python3",
      "display_name": "Python 3"
    },
    "language_info": {
      "name": "python"
    }
  },
  "cells": [
    {
      "cell_type": "markdown",
      "metadata": {
        "id": "view-in-github",
        "colab_type": "text"
      },
      "source": [
        "<a href=\"https://colab.research.google.com/github/zai-singh/python-mini-projects/blob/main/debugging_challenge_question.ipynb\" target=\"_parent\"><img src=\"https://colab.research.google.com/assets/colab-badge.svg\" alt=\"Open In Colab\"/></a>"
      ]
    },
    {
      "cell_type": "code",
      "execution_count": 5,
      "metadata": {
        "colab": {
          "base_uri": "https://localhost:8080/"
        },
        "id": "kjIimG6-tBWO",
        "outputId": "f0351569-9860-409b-c62f-f59860f39654"
      },
      "outputs": [
        {
          "output_type": "stream",
          "name": "stdout",
          "text": [
            "['Ram', '1', 'shyam', '3']\n",
            "['1', '3', 'Ram', 'shyam']\n",
            "0.0027043819427490234\n"
          ]
        }
      ],
      "source": [
        "import time\n",
        "t1=time.time()\n",
        "L = [\"Ram\",\"1\",\"shyam\",\"3\"]\n",
        "print(L)\n",
        "L.sort()\n",
        "print(L)\n",
        "t2=time.time()\n",
        "print(t2-t1)"
      ]
    }
  ]
}